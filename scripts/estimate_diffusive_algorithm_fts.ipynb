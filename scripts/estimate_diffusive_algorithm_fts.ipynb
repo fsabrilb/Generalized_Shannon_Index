{
 "cells": [
  {
   "cell_type": "code",
   "execution_count": 1,
   "id": "5a523ab1-90e9-41e9-beb6-8e9f3f004e03",
   "metadata": {},
   "outputs": [],
   "source": [
    "import os\n",
    "import re\n",
    "import sys\n",
    "import warnings\n",
    "import numpy as np\n",
    "import pandas as pd\n",
    "\n",
    "sys.path.append('../modules')\n",
    "import estimate_theil_index as estimate_theil\n",
    "\n",
    "warnings.filterwarnings(\"ignore\")\n",
    "pd.options.mode.chained_assignment = None\n",
    "pd.set_option('display.max_columns', None)"
   ]
  },
  {
   "cell_type": "code",
   "execution_count": 2,
   "id": "08dae47a-2eca-407c-ad84-4872c9f76748",
   "metadata": {
    "tags": []
   },
   "outputs": [],
   "source": [
    "input_path_raw = \"../input_files/raw_data\"\n",
    "input_path_processed = \"../input_files/processed_data\"\n",
    "input_path_data_dictionary = \"../input_files/data_dictionary\"\n",
    "log_path = \"../logs\"\n",
    "output_path = \"../output_files\"\n",
    "input_generation_date = \"2023-06-08\""
   ]
  },
  {
   "cell_type": "markdown",
   "id": "5294f68a-01e7-46b8-9783-c396dccb4e4f",
   "metadata": {},
   "source": [
    "## Load time series"
   ]
  },
  {
   "cell_type": "code",
   "execution_count": 3,
   "id": "70c21e68-2af0-4473-a789-30d32e42a16b",
   "metadata": {
    "tags": []
   },
   "outputs": [],
   "source": [
    "df_stock_indexes = pd.read_csv(\"{}/df_stock_index_{}.csv\".format(input_path_processed, re.sub(\"-\", \"\", input_generation_date)), low_memory = False)\n",
    "df_currencies = pd.read_csv(\"{}/df_currency_{}.csv\".format(input_path_processed, re.sub(\"-\", \"\", input_generation_date)), low_memory = False)"
   ]
  },
  {
   "cell_type": "markdown",
   "id": "68334a8d-0e32-4d9a-a52e-61eaaba15bf0",
   "metadata": {},
   "source": [
    "## Estimate Diffusive Algorithm - Currencies"
   ]
  },
  {
   "cell_type": "code",
   "execution_count": 4,
   "id": "f2d67123-d899-4dcb-af6d-90e5ce4989bd",
   "metadata": {},
   "outputs": [
    {
     "name": "stdout",
     "output_type": "stream",
     "text": [
      "Ticker: KWDUSD=X - Name: KWDUSD\n",
      "\n"
     ]
    },
    {
     "name": "stderr",
     "output_type": "stream",
     "text": [
      "100%|██████████████████| 4151/4151 [00:15<00:00, 261.80it/s]\n"
     ]
    },
    {
     "name": "stdout",
     "output_type": "stream",
     "text": [
      "Ticker: BHDUSD=X - Name: BHDUSD\n",
      "\n"
     ]
    },
    {
     "name": "stderr",
     "output_type": "stream",
     "text": [
      "100%|██████████████████| 4404/4404 [00:17<00:00, 254.68it/s]\n"
     ]
    },
    {
     "name": "stdout",
     "output_type": "stream",
     "text": [
      "Ticker: OMRUSD=X - Name: OMRUSD\n",
      "\n"
     ]
    },
    {
     "name": "stderr",
     "output_type": "stream",
     "text": [
      "100%|██████████████████| 3914/3914 [00:15<00:00, 258.44it/s]\n"
     ]
    },
    {
     "name": "stdout",
     "output_type": "stream",
     "text": [
      "Ticker: JODUSD=X - Name: JODUSD\n",
      "\n"
     ]
    },
    {
     "name": "stderr",
     "output_type": "stream",
     "text": [
      "100%|██████████████████| 2566/2566 [00:08<00:00, 313.43it/s]\n"
     ]
    },
    {
     "name": "stdout",
     "output_type": "stream",
     "text": [
      "Ticker: KYDUSD=X - Name: KYDUSD\n",
      "\n"
     ]
    },
    {
     "name": "stderr",
     "output_type": "stream",
     "text": [
      "100%|██████████████████| 3508/3508 [00:12<00:00, 283.08it/s]\n"
     ]
    },
    {
     "name": "stdout",
     "output_type": "stream",
     "text": [
      "Ticker: GBPUSD=X - Name: GBPUSD\n",
      "\n"
     ]
    },
    {
     "name": "stderr",
     "output_type": "stream",
     "text": [
      "100%|██████████████████| 5053/5053 [00:22<00:00, 226.30it/s]\n"
     ]
    },
    {
     "name": "stdout",
     "output_type": "stream",
     "text": [
      "Ticker: CHFUSD=X - Name: CHFUSD\n",
      "\n"
     ]
    },
    {
     "name": "stderr",
     "output_type": "stream",
     "text": [
      "100%|██████████████████| 5106/5106 [00:21<00:00, 242.97it/s]\n"
     ]
    },
    {
     "name": "stdout",
     "output_type": "stream",
     "text": [
      "Ticker: EURUSD=X - Name: EURUSD\n",
      "\n"
     ]
    },
    {
     "name": "stderr",
     "output_type": "stream",
     "text": [
      "100%|██████████████████| 5040/5040 [00:21<00:00, 229.45it/s]\n"
     ]
    },
    {
     "name": "stdout",
     "output_type": "stream",
     "text": [
      "Ticker: SGD=X - Name: SGD\n",
      "\n"
     ]
    },
    {
     "name": "stderr",
     "output_type": "stream",
     "text": [
      "100%|██████████████████| 5044/5044 [00:21<00:00, 232.91it/s]\n"
     ]
    },
    {
     "name": "stdout",
     "output_type": "stream",
     "text": [
      "Ticker: CAD=X - Name: CAD\n",
      "\n"
     ]
    },
    {
     "name": "stderr",
     "output_type": "stream",
     "text": [
      "100%|██████████████████| 5115/5115 [00:22<00:00, 231.86it/s]\n"
     ]
    },
    {
     "name": "stdout",
     "output_type": "stream",
     "text": [
      "Ticker: AUD=X - Name: AUD\n",
      "\n"
     ]
    },
    {
     "name": "stderr",
     "output_type": "stream",
     "text": [
      "100%|██████████████████| 4415/4415 [00:17<00:00, 251.08it/s]\n"
     ]
    },
    {
     "name": "stdout",
     "output_type": "stream",
     "text": [
      "Ticker: NZD=X - Name: NZD\n",
      "\n"
     ]
    },
    {
     "name": "stderr",
     "output_type": "stream",
     "text": [
      "100%|██████████████████| 5037/5037 [00:21<00:00, 236.37it/s]\n"
     ]
    },
    {
     "name": "stdout",
     "output_type": "stream",
     "text": [
      "Ticker: MYR=X - Name: MYR\n",
      "\n"
     ]
    },
    {
     "name": "stderr",
     "output_type": "stream",
     "text": [
      "100%|██████████████████| 4938/4938 [00:21<00:00, 233.24it/s]\n"
     ]
    },
    {
     "name": "stdout",
     "output_type": "stream",
     "text": [
      "Ticker: BRL=X - Name: BRL\n",
      "\n"
     ]
    },
    {
     "name": "stderr",
     "output_type": "stream",
     "text": [
      "100%|██████████████████| 4578/4578 [00:20<00:00, 228.56it/s]\n"
     ]
    },
    {
     "name": "stdout",
     "output_type": "stream",
     "text": [
      "Ticker: CNY=X - Name: CNY\n",
      "\n"
     ]
    },
    {
     "name": "stderr",
     "output_type": "stream",
     "text": [
      "100%|██████████████████| 4839/4839 [00:20<00:00, 232.49it/s]\n"
     ]
    },
    {
     "name": "stdout",
     "output_type": "stream",
     "text": [
      "Ticker: HKD=X - Name: HKD\n",
      "\n"
     ]
    },
    {
     "name": "stderr",
     "output_type": "stream",
     "text": [
      "100%|██████████████████| 5266/5266 [00:24<00:00, 212.07it/s]\n"
     ]
    },
    {
     "name": "stdout",
     "output_type": "stream",
     "text": [
      "Ticker: SEK=X - Name: SEK\n",
      "\n"
     ]
    },
    {
     "name": "stderr",
     "output_type": "stream",
     "text": [
      "100%|██████████████████| 5518/5518 [00:26<00:00, 205.13it/s]\n"
     ]
    },
    {
     "name": "stdout",
     "output_type": "stream",
     "text": [
      "Ticker: ZAR=X - Name: ZAR\n",
      "\n"
     ]
    },
    {
     "name": "stderr",
     "output_type": "stream",
     "text": [
      "100%|██████████████████| 5072/5072 [00:22<00:00, 227.67it/s]\n"
     ]
    },
    {
     "name": "stdout",
     "output_type": "stream",
     "text": [
      "Ticker: MXN=X - Name: MXN\n",
      "\n"
     ]
    },
    {
     "name": "stderr",
     "output_type": "stream",
     "text": [
      "100%|██████████████████| 5067/5067 [00:22<00:00, 226.02it/s]\n"
     ]
    },
    {
     "name": "stdout",
     "output_type": "stream",
     "text": [
      "Ticker: THB=X - Name: THB\n",
      "\n"
     ]
    },
    {
     "name": "stderr",
     "output_type": "stream",
     "text": [
      "100%|██████████████████| 4967/4967 [00:22<00:00, 221.36it/s]\n"
     ]
    },
    {
     "name": "stdout",
     "output_type": "stream",
     "text": [
      "Ticker: PHP=X - Name: PHP\n",
      "\n"
     ]
    },
    {
     "name": "stderr",
     "output_type": "stream",
     "text": [
      "100%|██████████████████| 4621/4621 [00:22<00:00, 202.43it/s]\n"
     ]
    },
    {
     "name": "stdout",
     "output_type": "stream",
     "text": [
      "Ticker: RUB=X - Name: RUB\n",
      "\n"
     ]
    },
    {
     "name": "stderr",
     "output_type": "stream",
     "text": [
      "100%|██████████████████| 4786/4786 [00:21<00:00, 226.88it/s]\n"
     ]
    },
    {
     "name": "stdout",
     "output_type": "stream",
     "text": [
      "Ticker: INR=X - Name: INR\n",
      "\n"
     ]
    },
    {
     "name": "stderr",
     "output_type": "stream",
     "text": [
      " 36%|██████▍           | 1781/4965 [00:08<00:14, 217.12it/s]IOPub message rate exceeded.\n",
      "The Jupyter server will temporarily stop sending output\n",
      "to the client in order to avoid crashing it.\n",
      "To change this limit, set the config variable\n",
      "`--ServerApp.iopub_msg_rate_limit`.\n",
      "\n",
      "Current values:\n",
      "ServerApp.iopub_msg_rate_limit=1000.0 (msgs/sec)\n",
      "ServerApp.rate_limit_window=3.0 (secs)\n",
      "\n"
     ]
    }
   ],
   "source": [
    "for i in df_currencies[\"symbol\"].unique():\n",
    "    print(\"Ticker: {} - Name: {}\\n\".format(i, re.sub(\"(\\^)|(=X)\", \"\", i)))\n",
    "    df_dtts_currencies = estimate_theil.estimate_diffusive_algorithm_global(\n",
    "        df_data = df_currencies[df_currencies[\"symbol\"] == i],\n",
    "        minimal_steps = 0,\n",
    "        log_path = log_path,\n",
    "        log_filename = \"log_dtts_currency_{}\".format(re.sub(\"(\\^)|(=X)\", \"\", i)),\n",
    "        verbose = 1,\n",
    "        tqdm_bar = True\n",
    "    )\n",
    "    df_dtts_currencies.to_csv(\"{}/df_dtts_currency_{}_{}.csv\".format(input_path_processed, re.sub(\"(\\^)|(=X)\", \"\", i), re.sub(\"-\", \"\", input_generation_date)), index = False)\n",
    "    "
   ]
  },
  {
   "cell_type": "markdown",
   "id": "785faa99-3973-4ff4-97bd-aa4955a963e5",
   "metadata": {},
   "source": [
    "## Estimate Diffusive Algorithm - Stock indexes"
   ]
  },
  {
   "cell_type": "code",
   "execution_count": 10,
   "id": "5f817dc3-9cea-4862-a948-dc1d519715b1",
   "metadata": {},
   "outputs": [
    {
     "name": "stdout",
     "output_type": "stream",
     "text": [
      "Ticker: ^DJI - Name: DJI\n",
      "\n"
     ]
    },
    {
     "name": "stderr",
     "output_type": "stream",
     "text": [
      "100%|██████████████████| 7906/7906 [00:47<00:00, 166.14it/s]\n"
     ]
    },
    {
     "name": "stdout",
     "output_type": "stream",
     "text": [
      "Ticker: ^W5000 - Name: W5000\n",
      "\n"
     ]
    },
    {
     "name": "stderr",
     "output_type": "stream",
     "text": [
      "100%|██████████████████| 8667/8667 [00:58<00:00, 149.38it/s]\n"
     ]
    },
    {
     "name": "stdout",
     "output_type": "stream",
     "text": [
      "Ticker: ^GSPTSE - Name: GSPTSE\n",
      "\n"
     ]
    },
    {
     "name": "stderr",
     "output_type": "stream",
     "text": [
      "100%|████████████████| 11016/11016 [01:29<00:00, 123.71it/s]\n"
     ]
    },
    {
     "name": "stdout",
     "output_type": "stream",
     "text": [
      "Ticker: ^GDAXI - Name: GDAXI\n",
      "\n"
     ]
    },
    {
     "name": "stderr",
     "output_type": "stream",
     "text": [
      "100%|██████████████████| 8956/8956 [01:07<00:00, 132.70it/s]\n"
     ]
    },
    {
     "name": "stdout",
     "output_type": "stream",
     "text": [
      "Ticker: ^FTSE - Name: FTSE\n",
      "\n"
     ]
    },
    {
     "name": "stderr",
     "output_type": "stream",
     "text": [
      "100%|██████████████████| 9938/9938 [01:18<00:00, 126.72it/s]\n"
     ]
    },
    {
     "name": "stdout",
     "output_type": "stream",
     "text": [
      "Ticker: ^IBEX - Name: IBEX\n",
      "\n"
     ]
    },
    {
     "name": "stderr",
     "output_type": "stream",
     "text": [
      "100%|██████████████████| 7556/7556 [00:47<00:00, 158.43it/s]\n"
     ]
    },
    {
     "name": "stdout",
     "output_type": "stream",
     "text": [
      "Ticker: ^FCHI - Name: FCHI\n",
      "\n"
     ]
    },
    {
     "name": "stderr",
     "output_type": "stream",
     "text": [
      "100%|██████████████████| 8428/8428 [00:57<00:00, 145.79it/s]\n"
     ]
    },
    {
     "name": "stdout",
     "output_type": "stream",
     "text": [
      "Ticker: ^IXIC - Name: IXIC\n",
      "\n"
     ]
    },
    {
     "name": "stderr",
     "output_type": "stream",
     "text": [
      "100%|█████████████████| 13160/13160 [02:17<00:00, 95.75it/s]\n"
     ]
    },
    {
     "name": "stdout",
     "output_type": "stream",
     "text": [
      "Ticker: IMOEX.ME - Name: IMOEX.ME\n",
      "\n"
     ]
    },
    {
     "name": "stderr",
     "output_type": "stream",
     "text": [
      "100%|██████████████████| 2520/2520 [00:08<00:00, 298.32it/s]\n"
     ]
    },
    {
     "name": "stdout",
     "output_type": "stream",
     "text": [
      "Ticker: ^N225 - Name: N225\n",
      "\n"
     ]
    },
    {
     "name": "stderr",
     "output_type": "stream",
     "text": [
      "100%|████████████████| 14170/14170 [02:16<00:00, 104.07it/s]\n"
     ]
    },
    {
     "name": "stdout",
     "output_type": "stream",
     "text": [
      "Ticker: ^STI - Name: STI\n",
      "\n"
     ]
    },
    {
     "name": "stderr",
     "output_type": "stream",
     "text": [
      "100%|██████████████████| 8830/8830 [01:05<00:00, 135.13it/s]\n"
     ]
    },
    {
     "name": "stdout",
     "output_type": "stream",
     "text": [
      "Ticker: ^BVSP - Name: BVSP\n",
      "\n"
     ]
    },
    {
     "name": "stderr",
     "output_type": "stream",
     "text": [
      "100%|██████████████████| 7433/7433 [00:42<00:00, 174.56it/s]\n"
     ]
    },
    {
     "name": "stdout",
     "output_type": "stream",
     "text": [
      "Ticker: ^MERV - Name: MERV\n",
      "\n"
     ]
    },
    {
     "name": "stderr",
     "output_type": "stream",
     "text": [
      "100%|██████████████████| 6506/6506 [00:36<00:00, 179.89it/s]\n"
     ]
    },
    {
     "name": "stdout",
     "output_type": "stream",
     "text": [
      "Ticker: PSI20.LS - Name: PSI20.LS\n",
      "\n"
     ]
    },
    {
     "name": "stderr",
     "output_type": "stream",
     "text": [
      "100%|██████████████████| 2573/2573 [00:09<00:00, 276.72it/s]\n"
     ]
    }
   ],
   "source": [
    "for i in df_stock_indexes[\"symbol\"].unique():\n",
    "    if i != \"^GSPC\":\n",
    "        print(\"Ticker: {} - Name: {}\\n\".format(i, re.sub(\"(\\^)|(=X)\", \"\", i)))\n",
    "        df_dtts_stock_indexes = estimate_theil.estimate_diffusive_algorithm_global(\n",
    "            df_data = df_stock_indexes[df_stock_indexes[\"symbol\"] == i],\n",
    "            minimal_steps = 0,\n",
    "            log_path = log_path,\n",
    "            log_filename = \"log_dtts_stock_index_{}\".format(re.sub(\"(\\^)|(=X)\", \"\", i)),\n",
    "            verbose = 1,\n",
    "            tqdm_bar = True\n",
    "        )\n",
    "        df_dtts_stock_indexes.to_csv(\"{}/df_dtts_stock_index_{}_{}.csv\".format(input_path_processed, re.sub(\"(\\^)|(=X)\", \"\", i), re.sub(\"-\", \"\", input_generation_date)), index = False)\n"
   ]
  },
  {
   "cell_type": "code",
   "execution_count": 4,
   "id": "e2bab215-78be-4d39-b5fd-6be306932910",
   "metadata": {},
   "outputs": [
    {
     "name": "stderr",
     "output_type": "stream",
     "text": [
      "100%|█████████████████| 23659/23659 [04:49<00:00, 81.86it/s]\n"
     ]
    }
   ],
   "source": [
    "df_dtts_stock_indexes = estimate_theil.estimate_diffusive_algorithm_global(\n",
    "    df_data = df_stock_indexes[df_stock_indexes[\"symbol\"] == \"^GSPC\"],\n",
    "    minimal_steps = 0,\n",
    "    log_path = log_path,\n",
    "    log_filename = \"log_dtts_stock_index_{}\".format(re.sub(\"(\\^)|(=X)\", \"\", \"^GSPC\")),\n",
    "    verbose = 1,\n",
    "    tqdm_bar = True\n",
    ")\n",
    "df_dtts_stock_indexes.to_csv(\"{}/df_dtts_stock_index_{}_{}.csv\".format(input_path_processed, re.sub(\"(\\^)|(=X)\", \"\", \"^GSPC\"), re.sub(\"-\", \"\", input_generation_date)), index = False)"
   ]
  }
 ],
 "metadata": {
  "kernelspec": {
   "display_name": "Python 3 (ipykernel)",
   "language": "python",
   "name": "python3"
  },
  "language_info": {
   "codemirror_mode": {
    "name": "ipython",
    "version": 3
   },
   "file_extension": ".py",
   "mimetype": "text/x-python",
   "name": "python",
   "nbconvert_exporter": "python",
   "pygments_lexer": "ipython3",
   "version": "3.9.7"
  }
 },
 "nbformat": 4,
 "nbformat_minor": 5
}
