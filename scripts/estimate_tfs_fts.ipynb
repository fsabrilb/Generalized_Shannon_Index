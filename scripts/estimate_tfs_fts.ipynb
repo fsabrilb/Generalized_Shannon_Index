{
 "cells": [
  {
   "cell_type": "code",
   "execution_count": 1,
   "id": "5a523ab1-90e9-41e9-beb6-8e9f3f004e03",
   "metadata": {},
   "outputs": [],
   "source": [
    "import os\n",
    "import re\n",
    "import sys\n",
    "import warnings\n",
    "import numpy as np\n",
    "import pandas as pd\n",
    "\n",
    "sys.path.append('../modules')\n",
    "import estimate_temporal_fluctuation_scaling as estimate_tfs\n",
    "\n",
    "warnings.filterwarnings(\"ignore\")\n",
    "pd.options.mode.chained_assignment = None\n",
    "pd.set_option('display.max_columns', None)"
   ]
  },
  {
   "cell_type": "code",
   "execution_count": 2,
   "id": "08dae47a-2eca-407c-ad84-4872c9f76748",
   "metadata": {
    "tags": []
   },
   "outputs": [],
   "source": [
    "input_path_raw = \"../input_files/raw_data\"\n",
    "input_path_processed = \"../input_files/processed_data\"\n",
    "input_path_data_dictionary = \"../input_files/data_dictionary\"\n",
    "log_path = \"../logs\"\n",
    "output_path = \"../output_files\"\n",
    "input_generation_date = \"2023-06-08\""
   ]
  },
  {
   "cell_type": "markdown",
   "id": "5294f68a-01e7-46b8-9783-c396dccb4e4f",
   "metadata": {},
   "source": [
    "## Load time series"
   ]
  },
  {
   "cell_type": "code",
   "execution_count": 3,
   "id": "70c21e68-2af0-4473-a789-30d32e42a16b",
   "metadata": {
    "tags": []
   },
   "outputs": [],
   "source": [
    "df_stock_indexes = pd.read_csv(\"{}/df_stock_index_{}.csv\".format(input_path_processed, re.sub(\"-\", \"\", input_generation_date)), low_memory = False)\n",
    "df_currencies = pd.read_csv(\"{}/df_currency_{}.csv\".format(input_path_processed, re.sub(\"-\", \"\", input_generation_date)), low_memory = False)"
   ]
  },
  {
   "cell_type": "markdown",
   "id": "785faa99-3973-4ff4-97bd-aa4955a963e5",
   "metadata": {},
   "source": [
    "## Estimate Temporal Fluctuation Scaling exponent"
   ]
  },
  {
   "cell_type": "code",
   "execution_count": 4,
   "id": "ff33f961-dc57-40c8-a400-ac2258bb3f0b",
   "metadata": {},
   "outputs": [
    {
     "name": "stderr",
     "output_type": "stream",
     "text": [
      "100%|█████████████| 140430/140430 [2:24:19<00:00, 16.22it/s]\n"
     ]
    }
   ],
   "source": [
    "df_stock_tfs = estimate_tfs.estimate_tfs_parameters(\n",
    "    df_fts = df_stock_indexes,\n",
    "    minimal_steps = 60,\n",
    "    p_norm = 2,\n",
    "    log_path = log_path,\n",
    "    log_filename = \"tfs_evolution_stock\",\n",
    "    verbose = 1,\n",
    "    tqdm_bar = True\n",
    ")"
   ]
  },
  {
   "cell_type": "code",
   "execution_count": null,
   "id": "2796943f-f6ae-46ae-872c-2d0eefdfe52e",
   "metadata": {},
   "outputs": [
    {
     "name": "stderr",
     "output_type": "stream",
     "text": [
      " 15%|██▏           | 20439/133433 [15:02<1:37:31, 19.31it/s]IOPub message rate exceeded.\n",
      "The Jupyter server will temporarily stop sending output\n",
      "to the client in order to avoid crashing it.\n",
      "To change this limit, set the config variable\n",
      "`--ServerApp.iopub_msg_rate_limit`.\n",
      "\n",
      "Current values:\n",
      "ServerApp.iopub_msg_rate_limit=1000.0 (msgs/sec)\n",
      "ServerApp.rate_limit_window=3.0 (secs)\n",
      "\n",
      " 26%|███▋          | 34832/133433 [27:39<1:19:49, 20.59it/s]IOPub message rate exceeded.\n",
      "The Jupyter server will temporarily stop sending output\n",
      "to the client in order to avoid crashing it.\n",
      "To change this limit, set the config variable\n",
      "`--ServerApp.iopub_msg_rate_limit`.\n",
      "\n",
      "Current values:\n",
      "ServerApp.iopub_msg_rate_limit=1000.0 (msgs/sec)\n",
      "ServerApp.rate_limit_window=3.0 (secs)\n",
      "\n",
      " 31%|████▍         | 41993/133433 [33:37<1:08:22, 22.29it/s]IOPub message rate exceeded.\n",
      "The Jupyter server will temporarily stop sending output\n",
      "to the client in order to avoid crashing it.\n",
      "To change this limit, set the config variable\n",
      "`--ServerApp.iopub_msg_rate_limit`.\n",
      "\n",
      "Current values:\n",
      "ServerApp.iopub_msg_rate_limit=1000.0 (msgs/sec)\n",
      "ServerApp.rate_limit_window=3.0 (secs)\n",
      "\n",
      " 47%|███████▌        | 63353/133433 [49:44<52:02, 22.45it/s]IOPub message rate exceeded.\n",
      "The Jupyter server will temporarily stop sending output\n",
      "to the client in order to avoid crashing it.\n",
      "To change this limit, set the config variable\n",
      "`--ServerApp.iopub_msg_rate_limit`.\n",
      "\n",
      "Current values:\n",
      "ServerApp.iopub_msg_rate_limit=1000.0 (msgs/sec)\n",
      "ServerApp.rate_limit_window=3.0 (secs)\n",
      "\n",
      " 70%|█████████▊    | 93715/133433 [1:13:57<29:38, 22.33it/s]"
     ]
    }
   ],
   "source": [
    "df_currency_tfs = estimate_tfs.estimate_tfs_parameters(\n",
    "    df_fts = df_currencies,\n",
    "    minimal_steps = 60,\n",
    "    p_norm = 2,\n",
    "    log_path = log_path,\n",
    "    log_filename = \"tfs_evolution_currency\",\n",
    "    verbose = 1,\n",
    "    tqdm_bar = True\n",
    ")"
   ]
  },
  {
   "cell_type": "markdown",
   "id": "aa83bd46-42da-4bc5-bfcb-3630ae61ac49",
   "metadata": {},
   "source": [
    "## Save TFS data"
   ]
  },
  {
   "cell_type": "code",
   "execution_count": null,
   "id": "074fd7d6-d493-4e8d-9821-7ad872227547",
   "metadata": {},
   "outputs": [],
   "source": [
    "df_stock_tfs.to_csv(\"{}/df_tfs_stock_index_{}.csv\".format(input_path_processed, re.sub(\"-\", \"\", input_generation_date)) , index = False)"
   ]
  },
  {
   "cell_type": "code",
   "execution_count": null,
   "id": "cc98a9b2-6dc8-4c44-b66e-4d598c9e8fb6",
   "metadata": {},
   "outputs": [],
   "source": [
    "df_currency_tfs.to_csv(\"{}/df_tfs_currency_{}.csv\".format(input_path_processed, re.sub(\"-\", \"\", input_generation_date)) , index = False)"
   ]
  }
 ],
 "metadata": {
  "kernelspec": {
   "display_name": "Python 3 (ipykernel)",
   "language": "python",
   "name": "python3"
  },
  "language_info": {
   "codemirror_mode": {
    "name": "ipython",
    "version": 3
   },
   "file_extension": ".py",
   "mimetype": "text/x-python",
   "name": "python",
   "nbconvert_exporter": "python",
   "pygments_lexer": "ipython3",
   "version": "3.9.7"
  }
 },
 "nbformat": 4,
 "nbformat_minor": 5
}
