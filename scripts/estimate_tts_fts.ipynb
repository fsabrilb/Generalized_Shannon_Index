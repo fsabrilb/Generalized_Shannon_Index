{
 "cells": [
  {
   "cell_type": "code",
   "execution_count": 1,
   "id": "5a523ab1-90e9-41e9-beb6-8e9f3f004e03",
   "metadata": {},
   "outputs": [],
   "source": [
    "import os\n",
    "import re\n",
    "import sys\n",
    "import warnings\n",
    "import numpy as np\n",
    "import pandas as pd\n",
    "\n",
    "sys.path.append('../modules')\n",
    "import estimate_theil_index as estimate_theil\n",
    "import estimate_temporal_theil_scaling as estimate_tts\n",
    "\n",
    "warnings.filterwarnings(\"ignore\")\n",
    "pd.options.mode.chained_assignment = None\n",
    "pd.set_option('display.max_columns', None)"
   ]
  },
  {
   "cell_type": "code",
   "execution_count": 2,
   "id": "08dae47a-2eca-407c-ad84-4872c9f76748",
   "metadata": {
    "tags": []
   },
   "outputs": [],
   "source": [
    "input_path_raw = \"../input_files/raw_data\"\n",
    "input_path_processed = \"../input_files/processed_data\"\n",
    "input_path_data_dictionary = \"../input_files/data_dictionary\"\n",
    "log_path = \"../logs\"\n",
    "output_path = \"../output_files\"\n",
    "input_generation_date = \"2023-06-08\""
   ]
  },
  {
   "cell_type": "markdown",
   "id": "9e90c736-95f5-4ec6-83d6-a7190bc6a366",
   "metadata": {},
   "source": [
    "## Load time series"
   ]
  },
  {
   "cell_type": "code",
   "execution_count": 3,
   "id": "70c21e68-2af0-4473-a789-30d32e42a16b",
   "metadata": {
    "tags": []
   },
   "outputs": [],
   "source": [
    "df_stock_indexes = pd.read_csv(\"{}/df_stock_index_{}.csv\".format(input_path_processed, re.sub(\"-\", \"\", input_generation_date)), low_memory = False)\n",
    "df_currencies = pd.read_csv(\"{}/df_currency_{}.csv\".format(input_path_processed, re.sub(\"-\", \"\", input_generation_date)), low_memory = False)"
   ]
  },
  {
   "cell_type": "markdown",
   "id": "bb9fa540-6215-476f-92d6-5534a818edc3",
   "metadata": {},
   "source": [
    "## Theil index estimation"
   ]
  },
  {
   "cell_type": "code",
   "execution_count": 4,
   "id": "dd101afe-44dd-49ec-8aeb-fd05b700232b",
   "metadata": {},
   "outputs": [
    {
     "data": {
      "text/plain": [
       "JPY=X       6856\n",
       "SEK=X       5518\n",
       "IDR=X       5396\n",
       "HKD=X       5266\n",
       "CAD=X       5115\n",
       "CHFUSD=X    5106\n",
       "ZAR=X       5072\n",
       "MXN=X       5067\n",
       "GBPUSD=X    5053\n",
       "HUF=X       5050\n",
       "SGD=X       5044\n",
       "EURUSD=X    5040\n",
       "NZD=X       5037\n",
       "THB=X       4967\n",
       "INR=X       4965\n",
       "MYR=X       4938\n",
       "COP=X       4865\n",
       "CNY=X       4839\n",
       "RUB=X       4786\n",
       "EURCOP=X    4662\n",
       "PHP=X       4621\n",
       "BRL=X       4578\n",
       "AUD=X       4415\n",
       "BHDUSD=X    4404\n",
       "KWDUSD=X    4151\n",
       "OMRUSD=X    3914\n",
       "KYDUSD=X    3508\n",
       "JODUSD=X    2566\n",
       "Name: symbol, dtype: int64"
      ]
     },
     "execution_count": 4,
     "metadata": {},
     "output_type": "execute_result"
    }
   ],
   "source": [
    "df_currencies[\"symbol\"].value_counts()"
   ]
  },
  {
   "cell_type": "code",
   "execution_count": null,
   "id": "5aaf7881-7485-46fe-a29d-02e9917ffeab",
   "metadata": {},
   "outputs": [
    {
     "name": "stdout",
     "output_type": "stream",
     "text": [
      "Ticker: KWDUSD=X - Name: KWDUSD\n"
     ]
    },
    {
     "name": "stderr",
     "output_type": "stream",
     "text": [
      "100%|███████████████████| 4151/4151 [54:19<00:00,  1.27it/s]\n"
     ]
    },
    {
     "name": "stdout",
     "output_type": "stream",
     "text": [
      "Ticker: BHDUSD=X - Name: BHDUSD\n"
     ]
    },
    {
     "name": "stderr",
     "output_type": "stream",
     "text": [
      "100%|█████████████████| 4404/4404 [1:07:40<00:00,  1.08it/s]\n"
     ]
    },
    {
     "name": "stdout",
     "output_type": "stream",
     "text": [
      "Ticker: OMRUSD=X - Name: OMRUSD\n"
     ]
    },
    {
     "name": "stderr",
     "output_type": "stream",
     "text": [
      " 70%|█████████████▏     | 2727/3914 [32:36<14:14,  1.39it/s]IOPub message rate exceeded.\n",
      "The Jupyter server will temporarily stop sending output\n",
      "to the client in order to avoid crashing it.\n",
      "To change this limit, set the config variable\n",
      "`--ServerApp.iopub_msg_rate_limit`.\n",
      "\n",
      "Current values:\n",
      "ServerApp.iopub_msg_rate_limit=1000.0 (msgs/sec)\n",
      "ServerApp.rate_limit_window=3.0 (secs)\n",
      "\n",
      "100%|███████████████████| 3914/3914 [46:44<00:00,  1.40it/s]\n"
     ]
    },
    {
     "name": "stdout",
     "output_type": "stream",
     "text": [
      "Ticker: JODUSD=X - Name: JODUSD\n"
     ]
    },
    {
     "name": "stderr",
     "output_type": "stream",
     "text": [
      "100%|███████████████████| 2566/2566 [13:45<00:00,  3.11it/s]\n"
     ]
    },
    {
     "name": "stdout",
     "output_type": "stream",
     "text": [
      "Ticker: KYDUSD=X - Name: KYDUSD\n"
     ]
    },
    {
     "name": "stderr",
     "output_type": "stream",
     "text": [
      "100%|███████████████████| 3508/3508 [41:54<00:00,  1.39it/s]\n"
     ]
    },
    {
     "name": "stdout",
     "output_type": "stream",
     "text": [
      "Ticker: GBPUSD=X - Name: GBPUSD\n"
     ]
    },
    {
     "name": "stderr",
     "output_type": "stream",
     "text": [
      " 34%|█████▊           | 1737/5053 [34:02<1:08:17,  1.24s/it]"
     ]
    }
   ],
   "source": [
    "for i in df_currencies[\"symbol\"].unique():\n",
    "    if i not in [\".....\"]:\n",
    "        name_ = re.sub(\"(\\^)|(=X)\", \"\", i)\n",
    "        print(\"Ticker: {} - Name: {}\".format(i, name_))\n",
    "\n",
    "        df_dtts_currencies = pd.read_csv(\n",
    "            \"{}/df_dtts_currency_{}_{}.csv\".format(\n",
    "                input_path_processed,\n",
    "                name_,\n",
    "                re.sub(\"-\", \"\", input_generation_date)\n",
    "            ),\n",
    "            low_memory = False\n",
    "        )\n",
    "\n",
    "        df_theil_currencies = estimate_theil.estimate_shannon_index_global(\n",
    "            df_dtts_data = df_dtts_currencies,\n",
    "            minimal_steps = 0,\n",
    "            log_path = log_path,\n",
    "            log_filename = \"log_theil_currency_{}\".format(name_),\n",
    "            verbose = 1,\n",
    "            tqdm_bar = True\n",
    "        )\n",
    "\n",
    "        df_theil_currencies.to_csv(\n",
    "            \"{}/df_theil_currency_{}_{}.csv\".format(input_path_processed, name_, re.sub(\"-\", \"\", input_generation_date)),\n",
    "            index = False\n",
    "        )"
   ]
  },
  {
   "cell_type": "code",
   "execution_count": 4,
   "id": "b556ccb7-4251-44ba-aa38-168ca3888dd4",
   "metadata": {},
   "outputs": [
    {
     "data": {
      "text/plain": [
       "^GSPC       23659\n",
       "^N225       14170\n",
       "^IXIC       13160\n",
       "^GSPTSE     11016\n",
       "^FTSE        9938\n",
       "^GDAXI       8956\n",
       "^STI         8830\n",
       "^W5000       8667\n",
       "^FCHI        8428\n",
       "^DJI         7906\n",
       "^IBEX        7556\n",
       "^BVSP        7433\n",
       "^MERV        6506\n",
       "PSI20.LS     2573\n",
       "IMOEX.ME     2520\n",
       "Name: symbol, dtype: int64"
      ]
     },
     "execution_count": 4,
     "metadata": {},
     "output_type": "execute_result"
    }
   ],
   "source": [
    "df_stock_indexes[\"symbol\"].value_counts()"
   ]
  },
  {
   "cell_type": "code",
   "execution_count": 9,
   "id": "02bb99a6-cd8d-453f-9d44-278183debf51",
   "metadata": {},
   "outputs": [
    {
     "name": "stdout",
     "output_type": "stream",
     "text": [
      "Ticker: ^N225 - Name: N225\n"
     ]
    },
    {
     "name": "stderr",
     "output_type": "stream",
     "text": [
      "100%|███████████████████| 1001/1001 [09:49<00:00,  1.70it/s]\n"
     ]
    },
    {
     "name": "stdout",
     "output_type": "stream",
     "text": [
      "Ticker: ^STI - Name: STI\n"
     ]
    },
    {
     "name": "stderr",
     "output_type": "stream",
     "text": [
      "100%|███████████████████| 1000/1000 [10:42<00:00,  1.56it/s]\n"
     ]
    },
    {
     "name": "stdout",
     "output_type": "stream",
     "text": [
      "Ticker: ^BVSP - Name: BVSP\n"
     ]
    },
    {
     "name": "stderr",
     "output_type": "stream",
     "text": [
      "100%|███████████████████| 1002/1002 [09:29<00:00,  1.76it/s]\n"
     ]
    },
    {
     "name": "stdout",
     "output_type": "stream",
     "text": [
      "Ticker: ^MERV - Name: MERV\n"
     ]
    },
    {
     "name": "stderr",
     "output_type": "stream",
     "text": [
      "100%|███████████████████| 1002/1002 [08:29<00:00,  1.97it/s]\n"
     ]
    }
   ],
   "source": [
    "for i in df_stock_indexes[\"symbol\"].unique():\n",
    "    if i not in [\"^GSPC\", \"PSI20.LS\", \"IMOEX.ME\", \"^BVSP\"]:\n",
    "        name_ = re.sub(\"(\\^)|(=X)\", \"\", i)\n",
    "        print(\"Ticker: {} - Name: {}\".format(i, name_))\n",
    "\n",
    "        df_dtts_stock_indexes = pd.read_csv(\n",
    "                \"{}/df_dtts_stock_index_{}_{}.csv\".format(\n",
    "                input_path_processed,\n",
    "                name_,\n",
    "                re.sub(\"-\", \"\", input_generation_date)\n",
    "            ),\n",
    "            low_memory = False\n",
    "        )\n",
    "\n",
    "        df_theil_stock_indexes = estimate_theil.estimate_shannon_index_global(\n",
    "            df_dtts_data = df_dtts_stock_indexes[((df_dtts_stock_indexes[\"time\"] >= 4096) & (df_dtts_stock_indexes[\"time\"] <= 5098))],\n",
    "            minimal_steps = 0,\n",
    "            log_path = log_path,\n",
    "            log_filename = \"log_theil_stock_index_{}\".format(name_),\n",
    "            verbose = 1,\n",
    "            tqdm_bar = True\n",
    "        )\n",
    "\n",
    "        df_theil_stock_indexes.to_csv(\n",
    "            \"{}/df_theil_stock_index_{}_{}.csv\".format(input_path_processed, name_, re.sub(\"-\", \"\", input_generation_date)),\n",
    "            index = False\n",
    "        )"
   ]
  },
  {
   "cell_type": "code",
   "execution_count": 4,
   "id": "72edae12-5a78-4d5a-8465-dd3f1bd83b4f",
   "metadata": {},
   "outputs": [
    {
     "name": "stderr",
     "output_type": "stream",
     "text": [
      "100%|█████████████████| 6283/6283 [5:15:37<00:00,  3.01s/it]\n"
     ]
    }
   ],
   "source": [
    "i = \"^GSPC\"\n",
    "name_ = re.sub(\"(\\^)|(=X)\", \"\", i)\n",
    "df_dtts_stock_indexes = pd.read_csv(\n",
    "        \"{}/df_dtts_stock_index_{}_{}.csv\".format(\n",
    "        input_path_processed,\n",
    "        name_,\n",
    "        re.sub(\"-\", \"\", input_generation_date)\n",
    "    ),\n",
    "    low_memory = False\n",
    ")\n",
    "\n",
    "df_dtts_stock_indexes = df_dtts_stock_indexes[df_dtts_stock_indexes[\"time\"] <= 6500]\n",
    "\n",
    "df_theil_stock_indexes = estimate_theil.estimate_shannon_index_global(\n",
    "    df_dtts_data = df_dtts_stock_indexes,\n",
    "    minimal_steps = 0,\n",
    "    log_path = log_path,\n",
    "    log_filename = \"log_theil_stock_index_{}\".format(name_),\n",
    "    verbose = 1,\n",
    "    tqdm_bar = True\n",
    ")\n",
    "\n",
    "df_theil_stock_indexes.to_csv(\n",
    "    \"{}/df_theil_stock_index_{}_{}.csv\".format(input_path_processed, name_, re.sub(\"-\", \"\", input_generation_date)),\n",
    "    index = False\n",
    ")"
   ]
  },
  {
   "cell_type": "markdown",
   "id": "f34bc3ca-1eaf-44a4-aad4-f295ccead9fb",
   "metadata": {},
   "source": [
    "# Merge all dataframe with Temporal Theil Scaling (TTS) data"
   ]
  },
  {
   "cell_type": "code",
   "execution_count": 12,
   "id": "f73891f1-8daf-4232-9dce-0b55cc0cd040",
   "metadata": {},
   "outputs": [
    {
     "name": "stdout",
     "output_type": "stream",
     "text": [
      "Ticker: KWDUSD=X - Name: KWDUSD\n",
      "Ticker: BHDUSD=X - Name: BHDUSD\n",
      "Ticker: OMRUSD=X - Name: OMRUSD\n",
      "Ticker: JODUSD=X - Name: JODUSD\n",
      "Ticker: GBPUSD=X - Name: GBPUSD\n",
      "Ticker: CHFUSD=X - Name: CHFUSD\n",
      "Ticker: EURUSD=X - Name: EURUSD\n",
      "Ticker: SGD=X - Name: SGD\n",
      "Ticker: CAD=X - Name: CAD\n",
      "Ticker: AUD=X - Name: AUD\n",
      "Ticker: NZD=X - Name: NZD\n",
      "Ticker: MYR=X - Name: MYR\n",
      "Ticker: BRL=X - Name: BRL\n",
      "Ticker: CNY=X - Name: CNY\n",
      "Ticker: HKD=X - Name: HKD\n",
      "Ticker: SEK=X - Name: SEK\n",
      "Ticker: ZAR=X - Name: ZAR\n",
      "Ticker: MXN=X - Name: MXN\n",
      "Ticker: THB=X - Name: THB\n",
      "Ticker: PHP=X - Name: PHP\n",
      "Ticker: RUB=X - Name: RUB\n",
      "Ticker: INR=X - Name: INR\n",
      "Ticker: JPY=X - Name: JPY\n",
      "Ticker: HUF=X - Name: HUF\n",
      "Ticker: COP=X - Name: COP\n",
      "Ticker: IDR=X - Name: IDR\n",
      "Ticker: EURCOP=X - Name: EURCOP\n"
     ]
    }
   ],
   "source": [
    "df_theil_currencies = pd.DataFrame()\n",
    "for i in df_currencies[\"symbol\"].unique():\n",
    "    if i not in [\"KYDUSD=X\"]:\n",
    "        name_ = re.sub(\"(\\^)|(=X)\", \"\", i)\n",
    "        print(\"Ticker: {} - Name: {}\".format(i, name_))\n",
    "\n",
    "        df_theil_currencies = df_theil_currencies.append(\n",
    "            pd.read_csv(\n",
    "                \"{}/df_theil_currency_{}_{}.csv\".format(\n",
    "                    input_path_processed,\n",
    "                    name_,\n",
    "                    re.sub(\"-\", \"\", input_generation_date)\n",
    "                ),\n",
    "                low_memory = False\n",
    "            )\n",
    "        )\n",
    "        \n",
    "df_theil_currencies.to_csv(\n",
    "    \"{}/df_theil_currency_{}.csv\".format(input_path_processed, re.sub(\"-\", \"\", input_generation_date)),\n",
    "    index = False\n",
    ")"
   ]
  },
  {
   "cell_type": "code",
   "execution_count": 5,
   "id": "95519e1f-e6df-4cbe-92d5-89b131664238",
   "metadata": {},
   "outputs": [
    {
     "name": "stdout",
     "output_type": "stream",
     "text": [
      "Ticker: ^GSPC - Name: GSPC\n",
      "Ticker: ^DJI - Name: DJI\n",
      "Ticker: ^W5000 - Name: W5000\n",
      "Ticker: ^GSPTSE - Name: GSPTSE\n",
      "Ticker: ^GDAXI - Name: GDAXI\n",
      "Ticker: ^FTSE - Name: FTSE\n",
      "Ticker: ^IBEX - Name: IBEX\n",
      "Ticker: ^FCHI - Name: FCHI\n",
      "Ticker: ^IXIC - Name: IXIC\n",
      "Ticker: ^N225 - Name: N225\n",
      "Ticker: ^STI - Name: STI\n",
      "Ticker: ^BVSP - Name: BVSP\n",
      "Ticker: ^MERV - Name: MERV\n"
     ]
    }
   ],
   "source": [
    "df_theil_stock_indexes = pd.DataFrame()\n",
    "for i in df_stock_indexes[\"symbol\"].unique():\n",
    "    if i not in [\"PSI20.LS\", \"IMOEX.ME\"]:\n",
    "        name_ = re.sub(\"(\\^)|(=X)\", \"\", i)\n",
    "        print(\"Ticker: {} - Name: {}\".format(i, name_))\n",
    "\n",
    "        df_theil_stock_indexes = df_theil_stock_indexes.append(\n",
    "            pd.read_csv(\n",
    "                \"{}/df_theil_stock_index_{}_{}.csv\".format(\n",
    "                    input_path_processed,\n",
    "                    name_,\n",
    "                    re.sub(\"-\", \"\", input_generation_date)\n",
    "                ),\n",
    "                low_memory = False\n",
    "            )\n",
    "        )\n",
    "\n",
    "df_theil_stock_indexes.to_csv(\n",
    "    \"{}/df_theil_stock_index_{}.csv\".format(input_path_processed, re.sub(\"-\", \"\", input_generation_date)),\n",
    "    index = False\n",
    ")"
   ]
  },
  {
   "cell_type": "markdown",
   "id": "785faa99-3973-4ff4-97bd-aa4955a963e5",
   "metadata": {},
   "source": [
    "## Estimate Temporal Theil Scaling exponent"
   ]
  },
  {
   "cell_type": "code",
   "execution_count": 13,
   "id": "581cb399-7187-4ff7-a6d4-5fac9067a190",
   "metadata": {},
   "outputs": [],
   "source": [
    "df_theil_currencies = pd.read_csv(\n",
    "    \"{}/df_theil_currency_{}.csv\".format(input_path_processed, re.sub(\"-\", \"\", input_generation_date)),\n",
    "    low_memory = False\n",
    ")\n",
    "df_theil_stock_indexes = pd.read_csv(\n",
    "    \"{}/df_theil_stock_index_{}.csv\".format(input_path_processed, re.sub(\"-\", \"\", input_generation_date)),\n",
    "    low_memory = False\n",
    ")"
   ]
  },
  {
   "cell_type": "code",
   "execution_count": null,
   "id": "ff33f961-dc57-40c8-a400-ac2258bb3f0b",
   "metadata": {},
   "outputs": [
    {
     "name": "stderr",
     "output_type": "stream",
     "text": [
      " 83%|██████████▊  | 108424/129926 [1:36:00<21:04, 17.01it/s]"
     ]
    }
   ],
   "source": [
    "df_currency_tts = estimate_tts.estimate_tts_parameters(\n",
    "    df_fts = df_theil_currencies,\n",
    "    minimal_steps = 60,\n",
    "    p_norm = 2,\n",
    "    log_path = log_path,\n",
    "    log_filename = \"tts_evolution_currency\",\n",
    "    verbose = 1,\n",
    "    tqdm_bar = True\n",
    ")"
   ]
  },
  {
   "cell_type": "code",
   "execution_count": 8,
   "id": "2796943f-f6ae-46ae-872c-2d0eefdfe52e",
   "metadata": {},
   "outputs": [
    {
     "name": "stderr",
     "output_type": "stream",
     "text": [
      "100%|█████████████████| 28628/28628 [18:25<00:00, 25.91it/s]\n"
     ]
    }
   ],
   "source": [
    "df_stock_tts = estimate_tts.estimate_tts_parameters(\n",
    "    df_fts = df_theil_stock_indexes,\n",
    "    minimal_steps = 60,\n",
    "    p_norm = 2,\n",
    "    log_path = log_path,\n",
    "    log_filename = \"tts_evolution_stock\",\n",
    "    verbose = 1,\n",
    "    tqdm_bar = True\n",
    ")"
   ]
  },
  {
   "cell_type": "markdown",
   "id": "aa83bd46-42da-4bc5-bfcb-3630ae61ac49",
   "metadata": {},
   "source": [
    "## Save TTS data"
   ]
  },
  {
   "cell_type": "code",
   "execution_count": 9,
   "id": "cc98a9b2-6dc8-4c44-b66e-4d598c9e8fb6",
   "metadata": {},
   "outputs": [],
   "source": [
    "df_currency_tts.to_csv(\"{}/df_tts_currency_{}.csv\".format(input_path_processed, re.sub(\"-\", \"\", input_generation_date)) , index = False)"
   ]
  },
  {
   "cell_type": "code",
   "execution_count": 10,
   "id": "074fd7d6-d493-4e8d-9821-7ad872227547",
   "metadata": {},
   "outputs": [],
   "source": [
    "df_stock_tts.to_csv(\"{}/df_tts_stock_index_{}.csv\".format(input_path_processed, re.sub(\"-\", \"\", input_generation_date)) , index = False)"
   ]
  },
  {
   "cell_type": "markdown",
   "id": "2af506d4-3bd5-4879-975b-9e272cfbee6e",
   "metadata": {},
   "source": [
    "## Temporal proofs"
   ]
  },
  {
   "cell_type": "code",
   "execution_count": 11,
   "id": "5166c35f-bb22-453d-9f4e-e035a33121f0",
   "metadata": {},
   "outputs": [
    {
     "data": {
      "text/plain": [
       "<AxesSubplot:xlabel='mean_value', ylabel='shannon_index'>"
      ]
     },
     "execution_count": 11,
     "metadata": {},
     "output_type": "execute_result"
    },
    {
     "data": {
      "image/png": "[encoded data removed]",
      "text/plain": [
       "<Figure size 432x288 with 1 Axes>"
      ]
     },
     "metadata": {
      "needs_background": "light"
     },
     "output_type": "display_data"
    }
   ],
   "source": [
    "A = df_theil_stock_indexes[((df_theil_stock_indexes[\"symbol\"] == \"^IBEX\") & (df_theil_stock_indexes[\"time_series\"] == \"absolute log-return\"))]\n",
    "A.plot(kind = \"scatter\", x = \"mean_value\", y = \"shannon_index\", legend = True)"
   ]
  },
  {
   "cell_type": "code",
   "execution_count": 7,
   "id": "51576b55-0012-44ed-947a-e2006faa8f27",
   "metadata": {},
   "outputs": [
    {
     "data": {
      "text/plain": [
       "(array([1.01213538, 0.13621304]),\n",
       " array([[1.66588499e-07, 9.73035138e-08],\n",
       "        [9.73035138e-08, 1.12489091e-07]]))"
      ]
     },
     "execution_count": 7,
     "metadata": {},
     "output_type": "execute_result"
    }
   ],
   "source": [
    "from scipy.optimize import curve_fit\n",
    "\n",
    "curve_fit(estimate_tts.temporal_theil_scaling, 1 - A[\"mean_value\"]/A[\"mean_value\"].max(), A[\"shannon_index\"] / A[\"shannon_index\"].max())"
   ]
  },
  {
   "cell_type": "code",
   "execution_count": 8,
   "id": "0f67765e-fa16-44f9-bb85-690597640aba",
   "metadata": {},
   "outputs": [
    {
     "data": {
      "text/html": [
       "<div>\n",
       "<style scoped>\n",
       "    .dataframe tbody tr th:only-of-type {\n",
       "        vertical-align: middle;\n",
       "    }\n",
       "\n",
       "    .dataframe tbody tr th {\n",
       "        vertical-align: top;\n",
       "    }\n",
       "\n",
       "    .dataframe thead th {\n",
       "        text-align: right;\n",
       "    }\n",
       "</style>\n",
       "<table border=\"1\" class=\"dataframe\">\n",
       "  <thead>\n",
       "    <tr style=\"text-align: right;\">\n",
       "      <th></th>\n",
       "      <th>symbol</th>\n",
       "      <th>max_step</th>\n",
       "      <th>time_series</th>\n",
       "      <th>p_norm</th>\n",
       "      <th>coefficient_tts</th>\n",
       "      <th>error_coefficient_tts</th>\n",
       "      <th>exponent_tts</th>\n",
       "      <th>error_exponent_tts</th>\n",
       "      <th>average_error_tts</th>\n",
       "      <th>rsquared_tts</th>\n",
       "    </tr>\n",
       "  </thead>\n",
       "  <tbody>\n",
       "    <tr>\n",
       "      <th>0</th>\n",
       "      <td>^IBEX</td>\n",
       "      <td>5098</td>\n",
       "      <td>absolute log-return</td>\n",
       "      <td>2</td>\n",
       "      <td>1.012135</td>\n",
       "      <td>0.000408</td>\n",
       "      <td>0.136213</td>\n",
       "      <td>0.000335</td>\n",
       "      <td>0.09459</td>\n",
       "      <td>0.97719</td>\n",
       "    </tr>\n",
       "  </tbody>\n",
       "</table>\n",
       "</div>"
      ],
      "text/plain": [
       "  symbol  max_step          time_series  p_norm  coefficient_tts  \\\n",
       "0  ^IBEX      5098  absolute log-return       2         1.012135   \n",
       "\n",
       "   error_coefficient_tts  exponent_tts  error_exponent_tts  average_error_tts  \\\n",
       "0               0.000408      0.136213            0.000335            0.09459   \n",
       "\n",
       "   rsquared_tts  \n",
       "0       0.97719  "
      ]
     },
     "execution_count": 8,
     "metadata": {},
     "output_type": "execute_result"
    }
   ],
   "source": [
    "estimate_tts.estimate_tts_parameters_local(\n",
    "    df_fts = A,\n",
    "    p_norm = 2,\n",
    "    log_path = log_path,\n",
    "    log_filename = \"log_temp\",\n",
    "    verbose = 0,\n",
    "    arg_list = [\"^IBEX\", 5098]\n",
    ")"
   ]
  }
 ],
 "metadata": {
  "kernelspec": {
   "display_name": "Python 3 (ipykernel)",
   "language": "python",
   "name": "python3"
  },
  "language_info": {
   "codemirror_mode": {
    "name": "ipython",
    "version": 3
   },
   "file_extension": ".py",
   "mimetype": "text/x-python",
   "name": "python",
   "nbconvert_exporter": "python",
   "pygments_lexer": "ipython3",
   "version": "3.9.7"
  }
 },
 "nbformat": 4,
 "nbformat_minor": 5
}
